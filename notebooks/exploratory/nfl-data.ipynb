{
 "cells": [
  {
   "cell_type": "code",
   "execution_count": 2,
   "id": "546bbe4f",
   "metadata": {},
   "outputs": [],
   "source": [
    "import os\n",
    "from google.cloud import bigquery\n",
    "from google.oauth2 import service_account\n",
    "import pandas as pd\n",
    "import polars as pl\n",
    "\n",
    "# Set up BigQuery client\n",
    "PROJECT_ID = \"sports-analytics-475802\"\n",
    "CREDENTIALS_PATH = \"/Users/matthewdwyer/Documents/nfl_v3/credentials/gcp-service-account.json\"\n",
    "\n",
    "credentials = service_account.Credentials.from_service_account_file(\n",
    "    CREDENTIALS_PATH,\n",
    "    scopes=[\"https://www.googleapis.com/auth/cloud-platform\"]\n",
    ")\n",
    "\n",
    "client = bigquery.Client(project=PROJECT_ID, credentials=credentials)"
   ]
  },
  {
   "cell_type": "code",
   "execution_count": null,
   "id": "dfc6e5c0",
   "metadata": {},
   "outputs": [
    {
     "name": "stdout",
     "output_type": "stream",
     "text": [
      "Retrieved 1,000 rows\n"
     ]
    },
    {
     "data": {
      "text/html": [
       "<div><style>\n",
       ".dataframe > thead > tr,\n",
       ".dataframe > tbody > tr {\n",
       "  text-align: right;\n",
       "  white-space: pre-wrap;\n",
       "}\n",
       "</style>\n",
       "<small>shape: (5, 12)</small><table border=\"1\" class=\"dataframe\"><thead><tr><th>game_id</th><th>play_id</th><th>posteam</th><th>defteam</th><th>down</th><th>ydstogo</th><th>yardline_100</th><th>play_type</th><th>yards_gained</th><th>touchdown</th><th>epa</th><th>wpa</th></tr><tr><td>str</td><td>f64</td><td>str</td><td>str</td><td>f64</td><td>f64</td><td>f64</td><td>str</td><td>f64</td><td>f64</td><td>f64</td><td>f64</td></tr></thead><tbody><tr><td>&quot;2024_01_ARI_BUF&quot;</td><td>1.0</td><td>null</td><td>null</td><td>null</td><td>0.0</td><td>null</td><td>null</td><td>null</td><td>null</td><td>0.0</td><td>0.0</td></tr><tr><td>&quot;2024_01_ARI_BUF&quot;</td><td>40.0</td><td>&quot;ARI&quot;</td><td>&quot;BUF&quot;</td><td>null</td><td>0.0</td><td>35.0</td><td>&quot;kickoff&quot;</td><td>0.0</td><td>0.0</td><td>0.257819</td><td>0.000338</td></tr><tr><td>&quot;2024_01_ARI_BUF&quot;</td><td>61.0</td><td>&quot;ARI&quot;</td><td>&quot;BUF&quot;</td><td>1.0</td><td>10.0</td><td>70.0</td><td>&quot;run&quot;</td><td>3.0</td><td>0.0</td><td>-0.200602</td><td>-0.00727</td></tr><tr><td>&quot;2024_01_ARI_BUF&quot;</td><td>83.0</td><td>&quot;ARI&quot;</td><td>&quot;BUF&quot;</td><td>2.0</td><td>7.0</td><td>67.0</td><td>&quot;pass&quot;</td><td>22.0</td><td>0.0</td><td>2.028874</td><td>0.053842</td></tr><tr><td>&quot;2024_01_ARI_BUF&quot;</td><td>108.0</td><td>&quot;ARI&quot;</td><td>&quot;BUF&quot;</td><td>1.0</td><td>10.0</td><td>45.0</td><td>&quot;pass&quot;</td><td>9.0</td><td>0.0</td><td>0.754242</td><td>0.054495</td></tr></tbody></table></div>"
      ],
      "text/plain": [
       "shape: (5, 12)\n",
       "┌──────────────┬─────────┬─────────┬─────────┬───┬──────────────┬───────────┬───────────┬──────────┐\n",
       "│ game_id      ┆ play_id ┆ posteam ┆ defteam ┆ … ┆ yards_gained ┆ touchdown ┆ epa       ┆ wpa      │\n",
       "│ ---          ┆ ---     ┆ ---     ┆ ---     ┆   ┆ ---          ┆ ---       ┆ ---       ┆ ---      │\n",
       "│ str          ┆ f64     ┆ str     ┆ str     ┆   ┆ f64          ┆ f64       ┆ f64       ┆ f64      │\n",
       "╞══════════════╪═════════╪═════════╪═════════╪═══╪══════════════╪═══════════╪═══════════╪══════════╡\n",
       "│ 2024_01_ARI_ ┆ 1.0     ┆ null    ┆ null    ┆ … ┆ null         ┆ null      ┆ 0.0       ┆ 0.0      │\n",
       "│ BUF          ┆         ┆         ┆         ┆   ┆              ┆           ┆           ┆          │\n",
       "│ 2024_01_ARI_ ┆ 40.0    ┆ ARI     ┆ BUF     ┆ … ┆ 0.0          ┆ 0.0       ┆ 0.257819  ┆ 0.000338 │\n",
       "│ BUF          ┆         ┆         ┆         ┆   ┆              ┆           ┆           ┆          │\n",
       "│ 2024_01_ARI_ ┆ 61.0    ┆ ARI     ┆ BUF     ┆ … ┆ 3.0          ┆ 0.0       ┆ -0.200602 ┆ -0.00727 │\n",
       "│ BUF          ┆         ┆         ┆         ┆   ┆              ┆           ┆           ┆          │\n",
       "│ 2024_01_ARI_ ┆ 83.0    ┆ ARI     ┆ BUF     ┆ … ┆ 22.0         ┆ 0.0       ┆ 2.028874  ┆ 0.053842 │\n",
       "│ BUF          ┆         ┆         ┆         ┆   ┆              ┆           ┆           ┆          │\n",
       "│ 2024_01_ARI_ ┆ 108.0   ┆ ARI     ┆ BUF     ┆ … ┆ 9.0          ┆ 0.0       ┆ 0.754242  ┆ 0.054495 │\n",
       "│ BUF          ┆         ┆         ┆         ┆   ┆              ┆           ┆           ┆          │\n",
       "└──────────────┴─────────┴─────────┴─────────┴───┴──────────────┴───────────┴───────────┴──────────┘"
      ]
     },
     "execution_count": 4,
     "metadata": {},
     "output_type": "execute_result"
    }
   ],
   "source": [
    "query = \"\"\"\n",
    "SELECT \n",
    "    game_id,\n",
    "    play_id,\n",
    "    posteam,\n",
    "    defteam,\n",
    "    down,\n",
    "    ydstogo,\n",
    "    yardline_100,\n",
    "    play_type,\n",
    "    yards_gained,\n",
    "    touchdown,\n",
    "    epa,\n",
    "    wpa\n",
    "FROM `sports-analytics-475802.nfl_raw.play_by_play` \n",
    "WHERE season = 2024\n",
    "LIMIT 1000\n",
    "\"\"\"\n",
    "\n",
    "# Execute query and convert to list of dicts, then to Polars\n",
    "query_job = client.query(query)\n",
    "results = query_job.result()\n",
    "rows = [dict(row) for row in results]\n",
    "bq_data = pl.DataFrame(rows)\n",
    "\n",
    "print(f\"Retrieved {len(bq_data):,} rows\")\n",
    "bq_data.head()"
   ]
  },
  {
   "cell_type": "code",
   "execution_count": null,
   "id": "f1d5f877",
   "metadata": {},
   "outputs": [],
   "source": []
  }
 ],
 "metadata": {
  "kernelspec": {
   "display_name": ".venv",
   "language": "python",
   "name": "python3"
  },
  "language_info": {
   "codemirror_mode": {
    "name": "ipython",
    "version": 3
   },
   "file_extension": ".py",
   "mimetype": "text/x-python",
   "name": "python",
   "nbconvert_exporter": "python",
   "pygments_lexer": "ipython3",
   "version": "3.13.7"
  }
 },
 "nbformat": 4,
 "nbformat_minor": 5
}
